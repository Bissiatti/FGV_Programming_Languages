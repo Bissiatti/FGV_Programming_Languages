{
 "cells": [
  {
   "cell_type": "markdown",
   "metadata": {
    "jupyter": {
     "outputs_hidden": true
    }
   },
   "source": [
    "# Prova A2 - Linguagens de Programação\n",
    "## Professor: Flavio Codeço Coelho\n",
    "### Aluno: \n",
    "### Instruções:\n",
    "Esta prova deve ser feita em uma cópia deste notebook, no repositório do aluno no Github, compartilhado com o professor. "
   ]
  },
  {
   "cell_type": "markdown",
   "metadata": {},
   "source": [
    "**Questão 1:** Considere a matriz $A_{60\\times60}$ do Numpy abaixo. Usando operadores de slice `:`, gere uma matriz $30\\times20$, a  partir dos elementos da matriz $A$, usando apenas linhas cujo indice seja multiplo de 2, e as colunas cujo índice seja múltiplo de 3."
   ]
  },
  {
   "cell_type": "code",
   "execution_count": 9,
   "metadata": {},
   "outputs": [],
   "source": [
    "import numpy as np\n",
    "from numpy.random import normal\n",
    "A = normal(size=(60,60))"
   ]
  },
  {
   "cell_type": "markdown",
   "metadata": {},
   "source": [
    "**Questão 2:** Considere os testes abaixo abaixo. Escreva o código necessário para fazer todos os testes passarem. Você não pode modificar o código dos testes. "
   ]
  },
  {
   "cell_type": "code",
   "execution_count": null,
   "metadata": {},
   "outputs": [],
   "source": [
    "import unittest\n",
    "from collections.abc import Iterable\n",
    "\n",
    "#====== Seu código =========\n",
    "\n",
    "\n",
    "#===========================\n",
    "\n",
    "class MeusTestes(unittest.TestCase):\n",
    "    def test_instância_de_Iterável(self):\n",
    "        a = Iterável()\n",
    "        self.assertIsInstance(a, Iterável)\n",
    "        \n",
    "    def test_é_iterável(self):\n",
    "        a = Iterável()\n",
    "        self.assertIsInstance(a, Iterable)\n",
    "\n",
    "unittest.main(argv=['first-arg-is-ignored'], exit=False);"
   ]
  },
  {
   "cell_type": "markdown",
   "metadata": {},
   "source": [
    "**Questão 3:** Usando Numpy e Matplotlib. construa um painel de subplots(com 3 figuras em uma mesma coluna) contendo graficos das funções Seno, Cosseno e Tangente de  $x \\in (0,6\\pi)$."
   ]
  },
  {
   "cell_type": "code",
   "execution_count": null,
   "metadata": {},
   "outputs": [],
   "source": []
  },
  {
   "cell_type": "markdown",
   "metadata": {},
   "source": [
    "**Questão 4:** Considere o dataframe `df` abaixo. Gere um boxplot dos dados `x`, `y` e `z` para os dois grupos especificados na coluna `Grupo`."
   ]
  },
  {
   "cell_type": "code",
   "execution_count": 11,
   "metadata": {},
   "outputs": [
    {
     "name": "stdout",
     "output_type": "stream",
     "text": [
      "Populating the interactive namespace from numpy and matplotlib\n"
     ]
    }
   ],
   "source": [
    "import pandas as pd\n",
    "import numpy as np\n",
    "%pylab inline\n",
    "df = pd.DataFrame(np.random.randn(100, 3),columns=['x', 'y', 'z'])\n",
    "df['Grupo'] = np.random.choice(['A','B'], size=100, replace=True)\n"
   ]
  },
  {
   "cell_type": "markdown",
   "metadata": {},
   "source": [
    "**Questão 5:** Complete o código da classe `Filha` abaixo de maneira ao resultado da célula ser:\n",
    "\n",
    "Meu nome é Úrsula,\n",
    "\n",
    "Sou filha de Maria, 42 anos\n",
    "\n",
    "e sobrinha de Lucíola, 39 anos\n",
    "\n",
    "***Exigências:***\n",
    "Do código pré-existente, você **não pode modificar** nenhuma linha marcada com `#` e **não pode adicionar** nenhuma linha nova. "
   ]
  },
  {
   "cell_type": "code",
   "execution_count": 28,
   "metadata": {},
   "outputs": [
    {
     "ename": "SyntaxError",
     "evalue": "f-string: empty expression not allowed (<ipython-input-28-4a0439084f8f>, line 16)",
     "output_type": "error",
     "traceback": [
      "\u001b[0;36m  File \u001b[0;32m\"<ipython-input-28-4a0439084f8f>\"\u001b[0;36m, line \u001b[0;32m16\u001b[0m\n\u001b[0;31m    print(f\"Sou filha de {}, {} anos\")\u001b[0m\n\u001b[0m         ^\u001b[0m\n\u001b[0;31mSyntaxError\u001b[0m\u001b[0;31m:\u001b[0m f-string: empty expression not allowed\n"
     ]
    }
   ],
   "source": [
    "class Mãe:#\n",
    "    def __init__(self):#\n",
    "        self.nome = \"Maria\"#\n",
    "        self.idade = '42'#\n",
    "    \n",
    "class Tia:#\n",
    "    nome = \"Lucíola\"#\n",
    "    idade = 39#\n",
    "    \n",
    "    \n",
    "class Filha:\n",
    "    Nome = \"Úrsula\"\n",
    "    def descreve_familia(self):#\n",
    "        super().__init__()#\n",
    "        print(f\"Meu nome é {self.Nome},\")\n",
    "        print(f\"Sou filha de {}, {} anos\") \n",
    "        print(f\"e sobrinha de {}, {} anos.\")\n",
    "              \n",
    "f=Filha()#\n",
    "f.descreve_familia()#"
   ]
  },
  {
   "cell_type": "code",
   "execution_count": null,
   "metadata": {},
   "outputs": [],
   "source": []
  }
 ],
 "metadata": {
  "kernelspec": {
   "display_name": "Python 3",
   "language": "python",
   "name": "python3"
  },
  "language_info": {
   "codemirror_mode": {
    "name": "ipython",
    "version": 3
   },
   "file_extension": ".py",
   "mimetype": "text/x-python",
   "name": "python",
   "nbconvert_exporter": "python",
   "pygments_lexer": "ipython3",
   "version": "3.6.8"
  },
  "latex_envs": {
   "LaTeX_envs_menu_present": true,
   "autoclose": false,
   "autocomplete": true,
   "bibliofile": "biblio.bib",
   "cite_by": "apalike",
   "current_citInitial": 1,
   "eqLabelWithNumbers": true,
   "eqNumInitial": 1,
   "hotkeys": {
    "equation": "Ctrl-E",
    "itemize": "Ctrl-I"
   },
   "labels_anchors": false,
   "latex_user_defs": false,
   "report_style_numbering": false,
   "user_envs_cfg": false
  },
  "pycharm": {
   "stem_cell": {
    "cell_type": "raw",
    "metadata": {
     "collapsed": false
    },
    "source": []
   }
  },
  "varInspector": {
   "cols": {
    "lenName": 16,
    "lenType": 16,
    "lenVar": 40
   },
   "kernels_config": {
    "python": {
     "delete_cmd_postfix": "",
     "delete_cmd_prefix": "del ",
     "library": "var_list.py",
     "varRefreshCmd": "print(var_dic_list())"
    },
    "r": {
     "delete_cmd_postfix": ") ",
     "delete_cmd_prefix": "rm(",
     "library": "var_list.r",
     "varRefreshCmd": "cat(var_dic_list()) "
    }
   },
   "types_to_exclude": [
    "module",
    "function",
    "builtin_function_or_method",
    "instance",
    "_Feature"
   ],
   "window_display": false
  }
 },
 "nbformat": 4,
 "nbformat_minor": 4
}
