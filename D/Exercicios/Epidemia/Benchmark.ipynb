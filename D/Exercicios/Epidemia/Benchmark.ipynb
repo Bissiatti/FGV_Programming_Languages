{
 "cells": [
  {
   "cell_type": "markdown",
   "metadata": {},
   "source": [
    "# Comparando a performance do Python *vs* D \n",
    "Neste notebook iremos comparar a performance do D para simular o mesmo modelo apresentado abaixo."
   ]
  },
  {
   "cell_type": "code",
   "execution_count": 18,
   "metadata": {},
   "outputs": [
    {
     "name": "stdout",
     "output_type": "stream",
     "text": [
      "Populating the interactive namespace from numpy and matplotlib\n"
     ]
    },
    {
     "name": "stderr",
     "output_type": "stream",
     "text": [
      "/usr/local/lib/python3.7/dist-packages/IPython/core/magics/pylab.py:160: UserWarning: pylab import has clobbered these variables: ['beta']\n",
      "`%matplotlib` prevents importing * from pylab and numpy\n",
      "  \"\\n`%matplotlib` prevents importing * from pylab and numpy\"\n"
     ]
    }
   ],
   "source": [
    "import pandas as pd\n",
    "import numpy as np\n",
    "from numpy.random import rand, gamma, exponential, poisson\n",
    "%pylab inline"
   ]
  },
  {
   "cell_type": "code",
   "execution_count": 19,
   "metadata": {},
   "outputs": [],
   "source": [
    "def run_sir(N, tf, nsims, *pars):\n",
    "    \"\"\"\n",
    "    Runs simulation.\n",
    "\n",
    "    :parameters:\n",
    "    :param N: tamanho da população\n",
    "    :param tf: tempo final\n",
    "    :param nsims:  Numero de simulações\n",
    "    :param pars: parametros\n",
    "    \"\"\"\n",
    "    beta, gam, I0, Tmed, constant = pars\n",
    "    betat = lambda t: beta + (0.5 * beta) * np.cos((2 * np.pi * t) / 365.)\n",
    "    sims = {}\n",
    "    for k in range(nsims):\n",
    "        t = [0]\n",
    "        S = [N - I0]\n",
    "        I = [I0]\n",
    "        dts = []\n",
    "        while I[-1] > 0 and t[-1] < tf:\n",
    "            U = rand()\n",
    "            # Probabilidade de que pelo menos um evento ocorra\n",
    "            R = beta * S[-1] * I[-1] / N + gam * I[-1]\n",
    "            # Probabilidade do próximo evento ser uma infecção\n",
    "            pinf = ((beta / N) * S[-1] * I[-1]) / R\n",
    "\n",
    "            if U <= pinf:  # próximo evento é uma infecçao\n",
    "                dt = exponential(1 / R)\n",
    "\n",
    "                S.append(S[-1] - 1)\n",
    "                I.append(I[-1] + 1)\n",
    "                t.append(t[-1] + dt)\n",
    "                dts.append(dt)\n",
    "            else:  # próximo evento é uma recuperação\n",
    "                S.append(S[-1])\n",
    "                I.append(I[-1] - 1)\n",
    "                # print('removal')\n",
    "                t.append(t[-1] + exponential(1 / R))  # -np.log(rand())/R)\n",
    "        sims[k] = (np.array([t, S, I]).T, np.array(t), dts)\n",
    "#         P.plot(t, I, label='$O_t^{}$'.format(k + 1), drawstyle='steps-post')\n",
    "    return sims"
   ]
  },
  {
   "cell_type": "markdown",
   "metadata": {},
   "source": [
    "Agora vamos usar o comando mágico de linha `%timeit` do Jupyter para calcular o tempo exigido pelo python para simular a epidemia em uma população de 150000 pessoas"
   ]
  },
  {
   "cell_type": "code",
   "execution_count": 47,
   "metadata": {},
   "outputs": [
    {
     "name": "stdout",
     "output_type": "stream",
     "text": [
      "The slowest run took 18232.13 times longer than the fastest. This could mean that an intermediate result is being cached.\n",
      "1.31 s ± 589 ms per loop (mean ± std. dev. of 7 runs, 1 loop each)\n"
     ]
    }
   ],
   "source": [
    "beta = 0.1\n",
    "gam = 1 / 21\n",
    "N = 150000\n",
    "Tmed = 20\n",
    "constant = False\n",
    "I0 = 2\n",
    "tf = 365\n",
    "ts = np.arange(tf)\n",
    "nsims = 1\n",
    "%timeit sims = run_sir(N, tf, nsims, *(beta, gam, I0, Tmed, constant))"
   ]
  },
  {
   "cell_type": "code",
   "execution_count": 39,
   "metadata": {},
   "outputs": [
    {
     "data": {
      "image/png": "[encoded data removed]",
      "text/plain": [
       "<Figure size 432x288 with 1 Axes>"
      ]
     },
     "metadata": {
      "needs_background": "light"
     },
     "output_type": "display_data"
    }
   ],
   "source": [
    "plt.plot(sims[0][0][:,0],sims[0][0][:,2],drawstyle='steps-post');\n",
    "plt.grid()"
   ]
  },
  {
   "cell_type": "code",
   "execution_count": 46,
   "metadata": {},
   "outputs": [
    {
     "name": "stdout",
     "output_type": "stream",
     "text": [
      "last R: 22.4392\r\n",
      "197 ms, 754 μs, and 5 hnsecs\r\n",
      "Number of steps: 245680, 245680,245680,245680\r\n"
     ]
    }
   ],
   "source": [
    "!epidemiad/epidemiad"
   ]
  },
  {
   "cell_type": "markdown",
   "metadata": {},
   "source": [
    "Como podemos ver, a versão em D é 6 vezes mais rápida que a versão Python."
   ]
  },
  {
   "cell_type": "code",
   "execution_count": 48,
   "metadata": {},
   "outputs": [
    {
     "data": {
      "text/html": [
       "<div>\n",
       "<style scoped>\n",
       "    .dataframe tbody tr th:only-of-type {\n",
       "        vertical-align: middle;\n",
       "    }\n",
       "\n",
       "    .dataframe tbody tr th {\n",
       "        vertical-align: top;\n",
       "    }\n",
       "\n",
       "    .dataframe thead th {\n",
       "        text-align: right;\n",
       "    }\n",
       "</style>\n",
       "<table border=\"1\" class=\"dataframe\">\n",
       "  <thead>\n",
       "    <tr style=\"text-align: right;\">\n",
       "      <th></th>\n",
       "      <th>time</th>\n",
       "      <th>S</th>\n",
       "      <th>I</th>\n",
       "      <th>dt</th>\n",
       "    </tr>\n",
       "  </thead>\n",
       "  <tbody>\n",
       "    <tr>\n",
       "      <td>0</td>\n",
       "      <td>0.00000</td>\n",
       "      <td>149998</td>\n",
       "      <td>2</td>\n",
       "      <td>0.00000</td>\n",
       "    </tr>\n",
       "    <tr>\n",
       "      <td>1</td>\n",
       "      <td>5.67831</td>\n",
       "      <td>149997</td>\n",
       "      <td>3</td>\n",
       "      <td>5.67831</td>\n",
       "    </tr>\n",
       "    <tr>\n",
       "      <td>2</td>\n",
       "      <td>8.86424</td>\n",
       "      <td>149996</td>\n",
       "      <td>4</td>\n",
       "      <td>3.18593</td>\n",
       "    </tr>\n",
       "    <tr>\n",
       "      <td>3</td>\n",
       "      <td>10.97380</td>\n",
       "      <td>149995</td>\n",
       "      <td>5</td>\n",
       "      <td>2.10953</td>\n",
       "    </tr>\n",
       "    <tr>\n",
       "      <td>4</td>\n",
       "      <td>11.15560</td>\n",
       "      <td>149995</td>\n",
       "      <td>4</td>\n",
       "      <td>0.18181</td>\n",
       "    </tr>\n",
       "  </tbody>\n",
       "</table>\n",
       "</div>"
      ],
      "text/plain": [
       "       time       S   I       dt\n",
       "0   0.00000  149998   2  0.00000\n",
       "1   5.67831  149997   3  5.67831\n",
       "2   8.86424  149996   4  3.18593\n",
       "3  10.97380  149995   5  2.10953\n",
       "4  11.15560  149995   4  0.18181"
      ]
     },
     "execution_count": 48,
     "metadata": {},
     "output_type": "execute_result"
    }
   ],
   "source": [
    "dsim = pd.read_csv('epidemiad/sim.csv')\n",
    "dsim.head()"
   ]
  },
  {
   "cell_type": "code",
   "execution_count": 49,
   "metadata": {},
   "outputs": [
    {
     "data": {
      "image/png": "[encoded data removed]",
      "text/plain": [
       "<Figure size 432x288 with 1 Axes>"
      ]
     },
     "metadata": {
      "needs_background": "light"
     },
     "output_type": "display_data"
    }
   ],
   "source": [
    "plt.plot(dsim.time,dsim[' I'],drawstyle='steps-post');\n",
    "plt.grid();"
   ]
  },
  {
   "cell_type": "code",
   "execution_count": 37,
   "metadata": {},
   "outputs": [
    {
     "data": {
      "text/plain": [
       "Index(['time', ' S', ' I', ' dt'], dtype='object')"
      ]
     },
     "execution_count": 37,
     "metadata": {},
     "output_type": "execute_result"
    }
   ],
   "source": []
  },
  {
   "cell_type": "code",
   "execution_count": null,
   "metadata": {},
   "outputs": [],
   "source": []
  }
 ],
 "metadata": {
  "kernelspec": {
   "display_name": "Python 3",
   "language": "python",
   "name": "python3"
  },
  "language_info": {
   "codemirror_mode": {
    "name": "ipython",
    "version": 3
   },
   "file_extension": ".py",
   "mimetype": "text/x-python",
   "name": "python",
   "nbconvert_exporter": "python",
   "pygments_lexer": "ipython3",
   "version": "3.7.3"
  }
 },
 "nbformat": 4,
 "nbformat_minor": 2
}
